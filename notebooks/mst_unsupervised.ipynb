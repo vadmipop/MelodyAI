{
 "cells": [
  {
   "cell_type": "code",
   "execution_count": 10,
   "metadata": {},
   "outputs": [
    {
     "name": "stdout",
     "output_type": "stream",
     "text": [
      "Requirement already satisfied: Pillow in c:\\users\\lukez\\appdata\\local\\packages\\pythonsoftwarefoundation.python.3.10_qbz5n2kfra8p0\\localcache\\local-packages\\python310\\site-packages (10.2.0)\n",
      "Collecting Pillow\n",
      "  Downloading pillow-10.3.0-cp310-cp310-win_amd64.whl (2.5 MB)\n",
      "                                              0.0/2.5 MB ? eta -:--:--\n",
      "                                              0.0/2.5 MB 1.3 MB/s eta 0:00:02\n",
      "     --                                       0.1/2.5 MB 1.7 MB/s eta 0:00:02\n",
      "     ----                                     0.3/2.5 MB 2.1 MB/s eta 0:00:02\n",
      "     --------                                 0.6/2.5 MB 3.2 MB/s eta 0:00:01\n",
      "     -------------------                      1.2/2.5 MB 5.6 MB/s eta 0:00:01\n",
      "     --------------------------------------   2.4/2.5 MB 9.0 MB/s eta 0:00:01\n",
      "     ---------------------------------------- 2.5/2.5 MB 9.0 MB/s eta 0:00:00\n",
      "Installing collected packages: Pillow\n",
      "  Attempting uninstall: Pillow\n",
      "    Found existing installation: pillow 10.2.0\n",
      "    Uninstalling pillow-10.2.0:\n",
      "      Successfully uninstalled pillow-10.2.0\n",
      "Successfully installed Pillow-10.3.0\n"
     ]
    },
    {
     "name": "stderr",
     "output_type": "stream",
     "text": [
      "\n",
      "[notice] A new release of pip is available: 23.1.2 -> 24.0\n",
      "[notice] To update, run: C:\\Users\\lukez\\AppData\\Local\\Microsoft\\WindowsApps\\PythonSoftwareFoundation.Python.3.10_qbz5n2kfra8p0\\python.exe -m pip install --upgrade pip\n"
     ]
    }
   ],
   "source": [
    "import sys\n",
    "\n",
    "!python3 -m pip install --upgrade Pillow"
   ]
  },
  {
   "cell_type": "code",
   "execution_count": 11,
   "metadata": {},
   "outputs": [],
   "source": [
    "from PIL import Image\n",
    "import numpy as np"
   ]
  },
  {
   "cell_type": "code",
   "execution_count": 13,
   "metadata": {},
   "outputs": [
    {
     "name": "stdout",
     "output_type": "stream",
     "text": [
      "PNG (432, 288) RGBA\n",
      "[255 255 255 ... 255 255 255]\n"
     ]
    }
   ],
   "source": [
    "x=Image.open('images_original/blues/blues00000.png')\n",
    "print(x.format, x.size, x.mode)\n",
    "print(np.array(x.getdata()).flatten())\n",
    "\n",
    "\n",
    "\n"
   ]
  },
  {
   "cell_type": "code",
   "execution_count": 14,
   "metadata": {},
   "outputs": [],
   "source": [
    "IMAGE_COMPONENTS=4\n",
    "def image_distance(im1,im2):\n",
    "    acc=0\n",
    "    for i in range(len(im1)):\n",
    "        pix1=im1[i]\n",
    "        pix2=im2[i]\n",
    "        for ii in range(IMAGE_COMPONENTS):\n",
    "            acc+=(pix1[ii]-pix2[ii])**2\n",
    "    return acc**(1/2)\n",
    "def image_number(index):\n",
    "     if index<10:\n",
    "        return '0000'+str(index)\n",
    "     return '000'+str(index)\n",
    "    \n",
    "def imageToNumber(genres,genreIndex,index):\n",
    "    if genres[genreIndex]!='jazz' or index<54:\n",
    "        return 100*genreIndex+index\n",
    "    return 100*genreIndex+index-1\n",
    "    \n",
    "    \n",
    "images_filepath='images_original/'\n",
    "genres=['blues','classical','country','disco','hiphop','metal','pop','reggae','rock','jazz']\n",
    "NUM_IMAGES_PER_GENRE=100"
   ]
  },
  {
   "cell_type": "code",
   "execution_count": 15,
   "metadata": {},
   "outputs": [],
   "source": [
    "genreX=[[] for _ in range(len(genres))]\n",
    "for genreIndex in range(len(genres)):\n",
    "    for imageIndex in range(NUM_IMAGES_PER_GENRE):\n",
    "        imageName1=genres[genreIndex]+image_number(imageIndex)\n",
    "        if genres[genreIndex]!='jazz' or imageIndex!=54:\n",
    "            genreX[genreIndex].append(np.array(Image.open(images_filepath+genres[genreIndex]+'/'+imageName1+'.png').getdata()).flatten())\n",
    "   \n",
    "\n",
    "for i in range(len(genreX)):\n",
    "    genreX[i]=np.array(genreX[i])"
   ]
  },
  {
   "cell_type": "code",
   "execution_count": 16,
   "metadata": {
    "scrolled": true
   },
   "outputs": [
    {
     "name": "stdout",
     "output_type": "stream",
     "text": [
      "blues\n"
     ]
    },
    {
     "name": "stderr",
     "output_type": "stream",
     "text": [
      "C:\\Users\\lukez\\AppData\\Local\\Temp\\ipykernel_23252\\4060238381.py:13: RuntimeWarning: overflow encountered in scalar subtract\n",
      "  dists.append((name1,name2,(ixx-2*genreX[i][iii].T@genreX[ii][iiii]+iixx)**(1/2)))\n",
      "C:\\Users\\lukez\\AppData\\Local\\Temp\\ipykernel_23252\\4060238381.py:13: RuntimeWarning: overflow encountered in scalar add\n",
      "  dists.append((name1,name2,(ixx-2*genreX[i][iii].T@genreX[ii][iiii]+iixx)**(1/2)))\n",
      "C:\\Users\\lukez\\AppData\\Local\\Temp\\ipykernel_23252\\4060238381.py:13: RuntimeWarning: invalid value encountered in power\n",
      "  dists.append((name1,name2,(ixx-2*genreX[i][iii].T@genreX[ii][iiii]+iixx)**(1/2)))\n"
     ]
    },
    {
     "name": "stdout",
     "output_type": "stream",
     "text": [
      "classical\n",
      "country\n",
      "disco\n",
      "hiphop\n",
      "metal\n",
      "pop\n",
      "reggae\n",
      "rock\n",
      "jazz\n",
      "448200\n"
     ]
    }
   ],
   "source": [
    "dists=[]\n",
    "for i in range(len(genres)):\n",
    "    print(genres[i])\n",
    "    for ii in range(i+1,len(genres)):\n",
    "            for iii in range(NUM_IMAGES_PER_GENRE):\n",
    "                if genres[i]!='jazz' or ii!=54 and not (genres[i]=='jazz' and ii!=99):\n",
    "                    for iiii in range(NUM_IMAGES_PER_GENRE):\n",
    "                        if genres[ii]!='jazz' or iiii!=54 and not (genres[ii]=='jazz' and iiii==99):\n",
    "                            name1=imageToNumber(genres,i,iii)\n",
    "                            name2=imageToNumber(genres,ii,iiii)\n",
    "                            ixx=genreX[i][iii].T@genreX[i][iii]\n",
    "                            iixx=genreX[ii][iiii].T@genreX[ii][iiii]\n",
    "                            dists.append((name1,name2,(ixx-2*genreX[i][iii].T@genreX[ii][iiii]+iixx)**(1/2)))\n",
    "            \n",
    "\n",
    "print(len(dists))\n",
    "        \n",
    "\n",
    "        "
   ]
  },
  {
   "cell_type": "code",
   "execution_count": 17,
   "metadata": {},
   "outputs": [],
   "source": [
    "dists.sort(key=lambda x: x[2])"
   ]
  },
  {
   "cell_type": "code",
   "execution_count": 18,
   "metadata": {},
   "outputs": [],
   "source": [
    "def union_find(parents,i):\n",
    "    while(parents[i]!=i):\n",
    "        i=parents[i]\n",
    "    return i\n",
    "def union_merge(size,parents,p1,p2):\n",
    "    if size[p1]>size[p2]:\n",
    "        parents[p2]=p1\n",
    "        size[p1]+=size[p2]\n",
    "    else:\n",
    "        parents[p1]=parents[p2]\n",
    "        size[p2]+=size[p1]\n",
    "\n",
    "        \n",
    "def minSpanTree(edges,numNodes,numGroupings):\n",
    "    parents=[i for i in range(numNodes)]\n",
    "    size=[1 for _ in range(numNodes)]\n",
    "    groupings=numNodes\n",
    "    i=0\n",
    "    while groupings>numGroupings:\n",
    "        \n",
    "        currEdge=edges[i]\n",
    "        p1=union_find(parents,currEdge[0])\n",
    "        p2=union_find(parents,currEdge[1])\n",
    "        if p1!=p2:\n",
    "            union_merge(size,parents,p1,p2)\n",
    "            groupings-=1\n",
    "            \n",
    "        i+=1\n",
    "    return parents,size\n",
    "        "
   ]
  },
  {
   "cell_type": "code",
   "execution_count": 19,
   "metadata": {},
   "outputs": [
    {
     "name": "stdout",
     "output_type": "stream",
     "text": [
      "{133: 990, 309: 1, 480: 1, 506: 1, 514: 1, 526: 1, 551: 1, 786: 1, 891: 1, 998: 1}\n"
     ]
    }
   ],
   "source": [
    "parents,size=minSpanTree(dists,9*100+99,10)\n",
    "groups={}\n",
    "for i in range(len(parents)):\n",
    "    parent=union_find(parents,i)\n",
    "    if parent in groups:\n",
    "        groups[parent]+=1\n",
    "    else:\n",
    "        groups[parent]=1\n",
    "print(groups)\n"
   ]
  },
  {
   "cell_type": "code",
   "execution_count": 9,
   "metadata": {},
   "outputs": [
    {
     "name": "stdout",
     "output_type": "stream",
     "text": [
      "[1, 1, 3, 3, 5, 5] [1, 2, 1, 2, 1, 2]\n",
      "cluster composed of  [0, 1]\n",
      "cluster composed of  [2, 3]\n",
      "cluster composed of  [4, 5]\n"
     ]
    }
   ],
   "source": [
    "node0=(0,6)\n",
    "node1=(-1,7)\n",
    "node2=(0,0)\n",
    "node3=(0,1)\n",
    "node4=(8,9)\n",
    "node5=(10,11)\n",
    "nodes=[node0,node1,node2,node3,node4,node5]\n",
    "edges=[]\n",
    "for i in range(len(nodes)):\n",
    "  for j in range(i+1,len(nodes)):\n",
    "    node1x,node1y=nodes[i][0],nodes[i][1]\n",
    "    node2x,node2y=nodes[j][0],nodes[j][1]\n",
    "    edges.append((i,j,((node1x-node2x)**2+(node1y-node2y)**2)**(1/2)))\n",
    "\n",
    "edges.sort(key=lambda x: x[2])\n",
    "parents,size=minSpanTree(edges,6,3)\n",
    "print(parents,size)\n",
    "groups={}\n",
    "for i in range(len(parents)):\n",
    "  parent=union_find(parents,i)\n",
    "  if parent in groups:\n",
    "    groups[parent].append(i)\n",
    "  else:\n",
    "    groups[parent]=[i]\n",
    "for i in groups:\n",
    "  print(\"cluster composed of \",groups[i])"
   ]
  },
  {
   "cell_type": "code",
   "execution_count": null,
   "metadata": {},
   "outputs": [],
   "source": []
  }
 ],
 "metadata": {
  "kernelspec": {
   "display_name": "Python 3 (ipykernel)",
   "language": "python",
   "name": "python3"
  },
  "language_info": {
   "codemirror_mode": {
    "name": "ipython",
    "version": 3
   },
   "file_extension": ".py",
   "mimetype": "text/x-python",
   "name": "python",
   "nbconvert_exporter": "python",
   "pygments_lexer": "ipython3",
   "version": "3.11.2"
  }
 },
 "nbformat": 4,
 "nbformat_minor": 2
}
