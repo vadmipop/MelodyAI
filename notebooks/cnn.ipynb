{
 "cells": [
  {
   "cell_type": "code",
   "execution_count": 1,
   "metadata": {},
   "outputs": [],
   "source": [
    "import numpy as np\n",
    "import pandas as pd\n",
    "import seaborn as sns\n",
    "import matplotlib.pyplot as plt\n",
    "\n",
    "import os, json, math, librosa\n",
    "\n",
    "import IPython.display as ipd\n",
    "import librosa.display\n",
    "\n",
    "import tensorflow as tf\n",
    "import tensorflow.keras as keras\n",
    "\n",
    "from tensorflow.keras import Sequential\n",
    "from tensorflow.keras.layers import Conv2D\n",
    "\n",
    "import sklearn.model_selection as sk\n",
    "\n",
    "from sklearn.model_selection import train_test_split\n",
    "\n",
    "import imageio.v3 as iio"
   ]
  },
  {
   "cell_type": "code",
   "execution_count": 2,
   "metadata": {},
   "outputs": [],
   "source": [
    "data_blue = []\n",
    "data_classic = []\n",
    "data_country = []\n",
    "data_disco = []\n",
    "\n",
    "\n",
    "# BLUE\n",
    "for dirname, _, filenames in os.walk('/Users/kailaiwang/Documents/CS4701/Data/images_original/blues'):\n",
    "    pass\n",
    "for filename in filenames:\n",
    "    im = iio.imread('/Users/kailaiwang/Documents/CS4701/Data/images_original/blues/'+filename)\n",
    "    data_blue.append(im)\n",
    "\n",
    "\n",
    "# CLASSICAL\n",
    "for dirname, _, filenames in os.walk('/Users/kailaiwang/Documents/CS4701/Data/images_original/classical'):\n",
    "    pass\n",
    "for filename in filenames:\n",
    "    im = iio.imread('/Users/kailaiwang/Documents/CS4701/Data/images_original/classical/'+filename)\n",
    "    data_classic.append(im)\n",
    "\n",
    "# Country\n",
    "for dirname, _, filenames in os.walk('/Users/kailaiwang/Documents/CS4701/Data/images_original/country'):\n",
    "    pass\n",
    "for filename in filenames:\n",
    "    im = iio.imread('/Users/kailaiwang/Documents/CS4701/Data/images_original/country/'+filename)\n",
    "    data_country.append(im)\n",
    "\n",
    "# Disco\n",
    "for dirname, _, filenames in os.walk('/Users/kailaiwang/Documents/CS4701/Data/images_original/disco'):\n",
    "    pass\n",
    "for filename in filenames:\n",
    "    im = iio.imread('/Users/kailaiwang/Documents/CS4701/Data/images_original/disco/'+filename)\n",
    "    data_disco.append(im)\n",
    "\n",
    "\n",
    "data_blue = np.array([data_blue]).reshape([100,288,432,4])\n",
    "data_classic = np.array([data_classic]).reshape([100,288,432,4])\n",
    "data_country = np.array([data_country]).reshape([100,288,432,4])\n",
    "data_disco = np.array([data_disco]).reshape([100,288,432,4])\n",
    "\n"
   ]
  },
  {
   "cell_type": "code",
   "execution_count": 3,
   "metadata": {},
   "outputs": [
    {
     "data": {
      "text/plain": [
       "(400, 288, 432, 4)"
      ]
     },
     "execution_count": 3,
     "metadata": {},
     "output_type": "execute_result"
    }
   ],
   "source": [
    "data_X = np.concatenate((data_blue, data_classic,data_country,data_disco))\n",
    "data_X.shape"
   ]
  },
  {
   "cell_type": "code",
   "execution_count": 4,
   "metadata": {},
   "outputs": [
    {
     "name": "stdout",
     "output_type": "stream",
     "text": [
      "[0. 0. 0. 0. 0. 0. 0. 0. 0. 0. 0. 0. 0. 0. 0. 0. 0. 0. 0. 0. 0. 0. 0. 0.\n",
      " 0. 0. 0. 0. 0. 0. 0. 0. 0. 0. 0. 0. 0. 0. 0. 0. 0. 0. 0. 0. 0. 0. 0. 0.\n",
      " 0. 0. 0. 0. 0. 0. 0. 0. 0. 0. 0. 0. 0. 0. 0. 0. 0. 0. 0. 0. 0. 0. 0. 0.\n",
      " 0. 0. 0. 0. 0. 0. 0. 0. 0. 0. 0. 0. 0. 0. 0. 0. 0. 0. 0. 0. 0. 0. 0. 0.\n",
      " 0. 0. 0. 0. 1. 1. 1. 1. 1. 1. 1. 1. 1. 1. 1. 1. 1. 1. 1. 1. 1. 1. 1. 1.\n",
      " 1. 1. 1. 1. 1. 1. 1. 1. 1. 1. 1. 1. 1. 1. 1. 1. 1. 1. 1. 1. 1. 1. 1. 1.\n",
      " 1. 1. 1. 1. 1. 1. 1. 1. 1. 1. 1. 1. 1. 1. 1. 1. 1. 1. 1. 1. 1. 1. 1. 1.\n",
      " 1. 1. 1. 1. 1. 1. 1. 1. 1. 1. 1. 1. 1. 1. 1. 1. 1. 1. 1. 1. 1. 1. 1. 1.\n",
      " 1. 1. 1. 1. 1. 1. 1. 1. 2. 2. 2. 2. 2. 2. 2. 2. 2. 2. 2. 2. 2. 2. 2. 2.\n",
      " 2. 2. 2. 2. 2. 2. 2. 2. 2. 2. 2. 2. 2. 2. 2. 2. 2. 2. 2. 2. 2. 2. 2. 2.\n",
      " 2. 2. 2. 2. 2. 2. 2. 2. 2. 2. 2. 2. 2. 2. 2. 2. 2. 2. 2. 2. 2. 2. 2. 2.\n",
      " 2. 2. 2. 2. 2. 2. 2. 2. 2. 2. 2. 2. 2. 2. 2. 2. 2. 2. 2. 2. 2. 2. 2. 2.\n",
      " 2. 2. 2. 2. 2. 2. 2. 2. 2. 2. 2. 2. 3. 3. 3. 3. 3. 3. 3. 3. 3. 3. 3. 3.\n",
      " 3. 3. 3. 3. 3. 3. 3. 3. 3. 3. 3. 3. 3. 3. 3. 3. 3. 3. 3. 3. 3. 3. 3. 3.\n",
      " 3. 3. 3. 3. 3. 3. 3. 3. 3. 3. 3. 3. 3. 3. 3. 3. 3. 3. 3. 3. 3. 3. 3. 3.\n",
      " 3. 3. 3. 3. 3. 3. 3. 3. 3. 3. 3. 3. 3. 3. 3. 3. 3. 3. 3. 3. 3. 3. 3. 3.\n",
      " 3. 3. 3. 3. 3. 3. 3. 3. 3. 3. 3. 3. 3. 3. 3. 3.]\n",
      "(400,)\n"
     ]
    }
   ],
   "source": [
    "import numpy as np\n",
    "\n",
    "# Create arrays with 100 zeros, ones, twos, and threes\n",
    "zeros_array = np.zeros(100)\n",
    "ones_array = np.ones(100)\n",
    "twos_array = np.full(100, 2)\n",
    "threes_array = np.full(100, 3)\n",
    "\n",
    "# Concatenate the arrays\n",
    "data_Y= np.concatenate((zeros_array, ones_array, twos_array, threes_array))\n",
    "\n",
    "\n",
    "print(data_Y)\n",
    "print(data_Y.shape)\n"
   ]
  },
  {
   "cell_type": "code",
   "execution_count": 5,
   "metadata": {},
   "outputs": [
    {
     "name": "stdout",
     "output_type": "stream",
     "text": [
      "Number of classes:  4\n",
      "Epoch 1/10\n"
     ]
    },
    {
     "name": "stderr",
     "output_type": "stream",
     "text": [
      "/Library/Frameworks/Python.framework/Versions/3.12/lib/python3.12/site-packages/keras/src/layers/convolutional/base_conv.py:99: UserWarning: Do not pass an `input_shape`/`input_dim` argument to a layer. When using Sequential models, prefer using an `Input(shape)` object as the first layer in the model instead.\n",
      "  super().__init__(\n"
     ]
    },
    {
     "name": "stdout",
     "output_type": "stream",
     "text": [
      "\u001b[1m8/8\u001b[0m \u001b[32m━━━━━━━━━━━━━━━━━━━━\u001b[0m\u001b[37m\u001b[0m \u001b[1m6s\u001b[0m 593ms/step - accuracy: 0.3525 - loss: 9.0762 - val_accuracy: 0.1750 - val_loss: 121.0658\n",
      "Epoch 2/10\n",
      "\u001b[1m8/8\u001b[0m \u001b[32m━━━━━━━━━━━━━━━━━━━━\u001b[0m\u001b[37m\u001b[0m \u001b[1m5s\u001b[0m 580ms/step - accuracy: 0.4096 - loss: 2.7252 - val_accuracy: 0.1750 - val_loss: 50.9679\n",
      "Epoch 3/10\n",
      "\u001b[1m8/8\u001b[0m \u001b[32m━━━━━━━━━━━━━━━━━━━━\u001b[0m\u001b[37m\u001b[0m \u001b[1m5s\u001b[0m 613ms/step - accuracy: 0.4646 - loss: 1.1906 - val_accuracy: 0.1750 - val_loss: 21.8289\n",
      "Epoch 4/10\n",
      "\u001b[1m8/8\u001b[0m \u001b[32m━━━━━━━━━━━━━━━━━━━━\u001b[0m\u001b[37m\u001b[0m \u001b[1m6s\u001b[0m 730ms/step - accuracy: 0.4942 - loss: 0.9712 - val_accuracy: 0.1625 - val_loss: 9.5007\n",
      "Epoch 5/10\n",
      "\u001b[1m8/8\u001b[0m \u001b[32m━━━━━━━━━━━━━━━━━━━━\u001b[0m\u001b[37m\u001b[0m \u001b[1m6s\u001b[0m 758ms/step - accuracy: 0.5462 - loss: 0.8928 - val_accuracy: 0.1750 - val_loss: 7.0273\n",
      "Epoch 6/10\n",
      "\u001b[1m8/8\u001b[0m \u001b[32m━━━━━━━━━━━━━━━━━━━━\u001b[0m\u001b[37m\u001b[0m \u001b[1m6s\u001b[0m 767ms/step - accuracy: 0.5752 - loss: 0.8483 - val_accuracy: 0.1875 - val_loss: 5.2750\n",
      "Epoch 7/10\n",
      "\u001b[1m8/8\u001b[0m \u001b[32m━━━━━━━━━━━━━━━━━━━━\u001b[0m\u001b[37m\u001b[0m \u001b[1m6s\u001b[0m 793ms/step - accuracy: 0.6407 - loss: 0.7968 - val_accuracy: 0.1875 - val_loss: 5.5175\n",
      "Epoch 8/10\n",
      "\u001b[1m8/8\u001b[0m \u001b[32m━━━━━━━━━━━━━━━━━━━━\u001b[0m\u001b[37m\u001b[0m \u001b[1m7s\u001b[0m 901ms/step - accuracy: 0.6400 - loss: 0.6449 - val_accuracy: 0.1875 - val_loss: 5.4390\n",
      "Epoch 9/10\n",
      "\u001b[1m8/8\u001b[0m \u001b[32m━━━━━━━━━━━━━━━━━━━━\u001b[0m\u001b[37m\u001b[0m \u001b[1m7s\u001b[0m 918ms/step - accuracy: 0.7373 - loss: 0.5982 - val_accuracy: 0.1875 - val_loss: 6.3327\n",
      "Epoch 10/10\n",
      "\u001b[1m8/8\u001b[0m \u001b[32m━━━━━━━━━━━━━━━━━━━━\u001b[0m\u001b[37m\u001b[0m \u001b[1m7s\u001b[0m 905ms/step - accuracy: 0.7843 - loss: 0.5785 - val_accuracy: 0.2000 - val_loss: 4.6315\n",
      "\u001b[1m3/3\u001b[0m \u001b[32m━━━━━━━━━━━━━━━━━━━━\u001b[0m\u001b[37m\u001b[0m \u001b[1m0s\u001b[0m 125ms/step - accuracy: 0.1820 - loss: 4.7637\n",
      "\u001b[1m3/3\u001b[0m \u001b[32m━━━━━━━━━━━━━━━━━━━━\u001b[0m\u001b[37m\u001b[0m \u001b[1m0s\u001b[0m 126ms/step - accuracy: 0.2547 - loss: 3.7431\n",
      "Validation Loss: 4.631453990936279, Validation Accuracy: 0.20000000298023224\n",
      "Test Loss: 3.3799362182617188, Test Accuracy: 0.2750000059604645\n"
     ]
    }
   ],
   "source": [
    "import tensorflow.keras as keras\n",
    "\n",
    "# Assuming you have data_X with shape (200, 288, 432, 4) and data_Y with shape (200)\n",
    "\n",
    "# Split data into training, validation, and test sets\n",
    "X_train, X_temp, y_train, y_temp = train_test_split(data_X, data_Y, test_size=0.4, random_state=42)\n",
    "X_val, X_test, y_val, y_test = train_test_split(X_temp, y_temp, test_size=0.5, random_state=42)\n",
    "\n",
    "# Define number of classes\n",
    "num_classes = len(np.unique(data_Y))\n",
    "print(\"Number of classes: \", num_classes)\n",
    "\n",
    "# Define model\n",
    "model = keras.Sequential()\n",
    "\n",
    "# 1st conv layer\n",
    "model.add(keras.layers.Conv2D(32, (3, 3), activation='relu', input_shape=(288, 432, 4)))\n",
    "model.add(keras.layers.MaxPooling2D((3, 3), strides=(2, 2), padding='same'))\n",
    "model.add(keras.layers.BatchNormalization())\n",
    "\n",
    "# 2nd conv layer\n",
    "model.add(keras.layers.Conv2D(32, (3, 3), activation='relu'))\n",
    "model.add(keras.layers.MaxPooling2D((3, 3), strides=(2, 2), padding='same'))\n",
    "model.add(keras.layers.BatchNormalization())\n",
    "\n",
    "# 3rd conv layer\n",
    "model.add(keras.layers.Conv2D(32, (2, 2), activation='relu'))\n",
    "model.add(keras.layers.MaxPooling2D((2, 2), strides=(2, 2), padding='same'))\n",
    "model.add(keras.layers.BatchNormalization())\n",
    "\n",
    "# flatten output and feed it into dense layer\n",
    "model.add(keras.layers.Flatten())\n",
    "model.add(keras.layers.Dense(64, activation='relu'))\n",
    "model.add(keras.layers.Dropout(0.3))\n",
    "\n",
    "# output layer\n",
    "model.add(keras.layers.Dense(num_classes, activation='softmax'))  # Use softmax activation\n",
    "\n",
    "\n",
    "\n",
    "\n",
    "\n",
    "# Compile the model\n",
    "model.compile(optimizer='adam',\n",
    "              loss='sparse_categorical_crossentropy',  # Use sparse categorical crossentropy\n",
    "              metrics=['accuracy'])\n",
    "\n",
    "# Train the model\n",
    "history = model.fit(X_train, y_train, epochs=10, validation_data=(X_val, y_val))\n",
    "\n",
    "# Evaluate on validation set\n",
    "val_loss, val_acc = model.evaluate(X_val, y_val)\n",
    "\n",
    "# Evaluate on test set\n",
    "test_loss, test_acc = model.evaluate(X_test, y_test)\n",
    "\n",
    "print(f\"Validation Loss: {val_loss}, Validation Accuracy: {val_acc}\")\n",
    "print(f\"Test Loss: {test_loss}, Test Accuracy: {test_acc}\")\n"
   ]
  },
  {
   "cell_type": "code",
   "execution_count": 6,
   "metadata": {},
   "outputs": [],
   "source": [
    "# Things to try next\n",
    "\n",
    "# make our own spectrograms from .wav files\n",
    "# improve the CNN model\n",
    "# hyperparameter tuning\n",
    "# train in batches\n",
    "\n"
   ]
  },
  {
   "cell_type": "code",
   "execution_count": 7,
   "metadata": {},
   "outputs": [
    {
     "data": {
      "image/png": "[encoded data removed]",
      "text/plain": [
       "<Figure size 640x480 with 1 Axes>"
      ]
     },
     "metadata": {},
     "output_type": "display_data"
    }
   ],
   "source": [
    "import matplotlib.pyplot as plt\n",
    "\n",
    "# Extract loss values from the history object\n",
    "train_loss = history.history['loss']\n",
    "val_loss = history.history['val_loss']\n",
    "\n",
    "# Plot training and validation loss\n",
    "epochs = range(1, len(train_loss) + 1)\n",
    "plt.plot(epochs, train_loss, 'bo', label='Training Loss')\n",
    "plt.plot(epochs, val_loss, 'r', label='Validation Loss')\n",
    "plt.title('Training and Validation Loss')\n",
    "plt.xlabel('Epochs')\n",
    "plt.ylabel('Loss')\n",
    "plt.legend()\n",
    "plt.show()\n"
   ]
  },
  {
   "cell_type": "code",
   "execution_count": 8,
   "metadata": {},
   "outputs": [
    {
     "data": {
      "image/png": "[encoded data removed]",
      "text/plain": [
       "<Figure size 640x480 with 1 Axes>"
      ]
     },
     "metadata": {},
     "output_type": "display_data"
    }
   ],
   "source": [
    "# Extract accuracy values from the history object\n",
    "train_acc = history.history['accuracy']\n",
    "val_acc = history.history['val_accuracy']\n",
    "\n",
    "# Plot training and validation accuracy\n",
    "plt.plot(epochs, train_acc, 'bo', label='Training Accuracy')\n",
    "plt.plot(epochs, val_acc, 'r', label='Validation Accuracy')\n",
    "plt.title('Training and Validation Accuracy')\n",
    "plt.xlabel('Epochs')\n",
    "plt.ylabel('Accuracy')\n",
    "plt.legend()\n",
    "plt.show()\n"
   ]
  },
  {
   "cell_type": "code",
   "execution_count": 9,
   "metadata": {},
   "outputs": [
    {
     "name": "stdout",
     "output_type": "stream",
     "text": [
      "\u001b[1m3/3\u001b[0m \u001b[32m━━━━━━━━━━━━━━━━━━━━\u001b[0m\u001b[37m\u001b[0m \u001b[1m1s\u001b[0m 164ms/step\n",
      "Predictions:\n",
      "[[4.00750479e-03 1.06899261e-05 3.16045612e-01 6.79936171e-01]\n",
      " [7.17282819e-04 1.52165569e-07 1.20210908e-02 9.87261474e-01]\n",
      " [2.30759429e-03 1.05905574e-05 3.89805049e-01 6.07876778e-01]\n",
      " [1.33073470e-02 2.06483746e-04 2.76300788e-01 7.10185409e-01]\n",
      " [2.03514341e-02 9.19942278e-04 3.47732484e-01 6.30996108e-01]\n",
      " [7.38058565e-03 4.23260208e-05 2.19125599e-01 7.73451507e-01]\n",
      " [9.98209417e-03 1.58301496e-04 2.71635592e-01 7.18223989e-01]\n",
      " [6.60911202e-04 1.72268440e-08 5.89998672e-03 9.93439078e-01]\n",
      " [3.36875673e-03 1.46144057e-05 2.14102983e-01 7.82513618e-01]\n",
      " [2.47096480e-03 5.31763635e-06 1.72616005e-01 8.24907601e-01]\n",
      " [1.10204541e-03 1.22607517e-07 4.68465127e-03 9.94213283e-01]\n",
      " [1.67175964e-03 8.85830673e-07 6.50463849e-02 9.33281004e-01]\n",
      " [1.30637577e-02 4.42306540e-04 7.18701333e-02 9.14623797e-01]\n",
      " [5.51444595e-04 4.35765131e-08 1.84796974e-02 9.80968893e-01]\n",
      " [5.95692080e-03 1.10979281e-05 8.74463841e-02 9.06585574e-01]\n",
      " [3.00844037e-03 1.67871804e-06 1.33686215e-02 9.83621359e-01]\n",
      " [3.39260697e-02 6.49675820e-03 4.20808434e-01 5.38768709e-01]\n",
      " [8.40975530e-03 2.26108939e-04 4.40770626e-01 5.50593495e-01]\n",
      " [3.21132946e-03 7.02992838e-06 1.12214044e-01 8.84567618e-01]\n",
      " [1.89631234e-03 3.03273850e-06 2.79464424e-01 7.18636274e-01]\n",
      " [4.51391283e-03 1.20381956e-05 1.98107228e-01 7.97366798e-01]\n",
      " [7.45672034e-04 3.35359005e-07 5.90579771e-02 9.40196037e-01]\n",
      " [3.91495461e-03 1.38937685e-05 2.62374282e-01 7.33696759e-01]\n",
      " [5.20772114e-03 1.10602705e-05 8.87523592e-02 9.06028867e-01]\n",
      " [1.96864456e-02 3.99243552e-04 1.79701120e-01 8.00213099e-01]\n",
      " [1.37804367e-03 4.50900558e-07 1.40889389e-02 9.84532654e-01]\n",
      " [1.25073968e-03 8.05133524e-08 5.94830653e-03 9.92800832e-01]\n",
      " [5.66605292e-03 6.44603278e-05 2.26637751e-01 7.67631710e-01]\n",
      " [3.18675265e-02 7.49559607e-04 1.35415196e-01 8.31967652e-01]\n",
      " [1.22890500e-02 6.69364759e-04 5.62021017e-01 4.25020576e-01]\n",
      " [2.50791246e-03 3.50106052e-06 4.15593497e-02 9.55929101e-01]\n",
      " [1.15076369e-02 4.56854468e-04 4.70272779e-01 5.17762721e-01]\n",
      " [2.46872623e-02 8.60067317e-04 2.70329535e-01 7.04123139e-01]\n",
      " [1.15367619e-03 3.05819725e-07 2.17205267e-02 9.77125525e-01]\n",
      " [3.91896069e-03 2.50110879e-05 1.05348200e-01 8.90707791e-01]\n",
      " [8.09567573e-04 1.46161341e-07 2.58060396e-02 9.73384202e-01]\n",
      " [1.84705073e-03 1.83915836e-06 3.14564779e-02 9.66694653e-01]\n",
      " [8.94744648e-04 4.33555783e-07 3.51023301e-02 9.64002490e-01]\n",
      " [8.81423336e-03 2.43755290e-04 1.22380748e-01 8.68561268e-01]\n",
      " [2.99309869e-03 3.51744961e-06 1.03391640e-01 8.93611789e-01]\n",
      " [1.58944707e-02 2.24038144e-04 2.60213435e-01 7.23668039e-01]\n",
      " [4.06470243e-03 1.84212640e-05 3.81347984e-01 6.14568889e-01]\n",
      " [2.03168159e-03 8.78141418e-06 3.47579867e-01 6.50379658e-01]\n",
      " [6.60774938e-04 4.31052740e-08 1.01040155e-02 9.89235163e-01]\n",
      " [7.70707731e-04 9.26758830e-08 1.32001890e-02 9.86029029e-01]\n",
      " [8.34283885e-03 5.13337764e-05 2.14275450e-01 7.77330399e-01]\n",
      " [1.62356142e-02 2.02463198e-04 1.61420286e-01 8.22141528e-01]\n",
      " [4.48179757e-03 2.29386951e-05 4.78267409e-02 9.47668552e-01]\n",
      " [1.77318659e-02 7.65001460e-04 2.53477782e-01 7.28025317e-01]\n",
      " [7.91330822e-03 1.29849184e-04 2.70388007e-01 7.21568763e-01]\n",
      " [2.63749552e-03 6.08368555e-06 1.73274234e-01 8.24082196e-01]\n",
      " [1.53457851e-03 9.50833396e-07 1.77260693e-02 9.80738461e-01]\n",
      " [1.13714999e-03 4.07365718e-07 2.71302480e-02 9.71732080e-01]\n",
      " [3.51473014e-03 2.27599157e-05 1.19532079e-01 8.76930475e-01]\n",
      " [9.26572829e-04 7.85947663e-08 6.51050918e-03 9.92562830e-01]\n",
      " [6.27673604e-03 2.00625327e-05 3.93914059e-02 9.54311788e-01]\n",
      " [5.19142160e-03 1.32674522e-05 1.76356956e-01 8.18438292e-01]\n",
      " [9.20584705e-03 1.86042322e-04 6.29296005e-02 9.27678466e-01]\n",
      " [1.64513721e-03 1.06935704e-06 2.50865668e-02 9.73267198e-01]\n",
      " [2.40475987e-03 3.04171340e-06 1.16356708e-01 8.81235540e-01]\n",
      " [4.03056899e-03 1.25509941e-05 2.57894188e-01 7.38062680e-01]\n",
      " [7.03996094e-03 3.34455835e-05 2.07247153e-01 7.85679460e-01]\n",
      " [1.25885685e-03 1.71629864e-07 2.12331545e-02 9.77507830e-01]\n",
      " [2.27780733e-03 1.31140007e-06 2.65166052e-02 9.71204281e-01]\n",
      " [1.29592849e-03 5.91026662e-07 6.12698793e-02 9.37433600e-01]\n",
      " [1.81172823e-03 1.29771036e-06 2.98946146e-02 9.68292356e-01]\n",
      " [1.22265080e-02 1.01635582e-04 2.32316241e-01 7.55355656e-01]\n",
      " [5.69217955e-04 1.47490402e-08 4.98901587e-03 9.94441748e-01]\n",
      " [8.44296359e-04 9.24907013e-08 6.33956771e-03 9.92815971e-01]\n",
      " [2.97525176e-03 6.56510883e-06 1.88516065e-01 8.08502078e-01]\n",
      " [3.52168712e-03 6.48844980e-06 7.94010982e-02 9.17070687e-01]\n",
      " [3.67084192e-03 5.04038235e-06 2.03654729e-02 9.75958705e-01]\n",
      " [1.04545988e-02 1.47819010e-04 2.46846572e-01 7.42550969e-01]\n",
      " [2.46225065e-03 3.25099654e-06 1.20703548e-01 8.76830935e-01]\n",
      " [4.10229992e-03 9.82745587e-06 1.43464208e-01 8.52423608e-01]\n",
      " [1.56850985e-03 1.57014858e-06 6.46695867e-02 9.33760405e-01]\n",
      " [7.02925085e-04 9.81054455e-08 1.43559948e-02 9.84940946e-01]\n",
      " [4.67967521e-03 2.01908297e-05 2.25495026e-01 7.69805014e-01]\n",
      " [1.20980747e-03 2.65437848e-07 1.15268249e-02 9.87263143e-01]\n",
      " [1.12970108e-02 1.45245300e-04 7.32466578e-02 9.15311098e-01]]\n"
     ]
    }
   ],
   "source": [
    "# Make predictions on the test set\n",
    "predictions = model.predict(X_test)\n",
    "\n",
    "\n",
    "# Print the predictions\n",
    "print(\"Predictions:\")\n",
    "print(predictions)\n"
   ]
  },
  {
   "cell_type": "code",
   "execution_count": 10,
   "metadata": {},
   "outputs": [
    {
     "name": "stdout",
     "output_type": "stream",
     "text": [
      "Predicted Labels:\n",
      "[3 3 3 3 3 3 3 3 3 3 3 3 3 3 3 3 3 3 3 3 3 3 3 3 3 3 3 3 3 2 3 3 3 3 3 3 3\n",
      " 3 3 3 3 3 3 3 3 3 3 3 3 3 3 3 3 3 3 3 3 3 3 3 3 3 3 3 3 3 3 3 3 3 3 3 3 3\n",
      " 3 3 3 3 3 3]\n",
      "correct labels [0. 3. 1. 0. 1. 1. 1. 3. 2. 2. 3. 2. 0. 3. 0. 3. 1. 1. 2. 2. 2. 2. 0. 1.\n",
      " 1. 3. 3. 2. 1. 1. 2. 1. 1. 0. 0. 3. 3. 0. 0. 2. 1. 2. 2. 3. 0. 1. 0. 3.\n",
      " 1. 2. 2. 3. 0. 0. 3. 2. 2. 3. 3. 0. 0. 1. 2. 3. 2. 3. 0. 3. 3. 2. 2. 3.\n",
      " 1. 0. 2. 2. 3. 2. 3. 2.]\n",
      "Test Accuracy: 0.275\n"
     ]
    }
   ],
   "source": [
    "# Get the predicted class labels\n",
    "predicted_labels = np.argmax(predictions, axis=1)\n",
    "\n",
    "# Print the predicted class labels\n",
    "print(\"Predicted Labels:\")\n",
    "print(predicted_labels)\n",
    "\n",
    "\n",
    "# Get the number of correct predictions\n",
    "correct_predictions = np.sum(predicted_labels == y_test)\n",
    "\n",
    "# Calculate the total number of samples in the test set\n",
    "total_samples = len(y_test)\n",
    "\n",
    "# Calculate the test accuracy\n",
    "test_accuracy = correct_predictions / total_samples\n",
    "\n",
    "\n",
    "print(\"correct labels\", y_test)\n",
    "\n",
    "# Print the test accuracy\n",
    "print(f\"Test Accuracy: {test_accuracy}\")\n",
    "\n",
    "\n"
   ]
  },
  {
   "cell_type": "code",
   "execution_count": null,
   "metadata": {},
   "outputs": [],
   "source": []
  },
  {
   "cell_type": "code",
   "execution_count": null,
   "metadata": {},
   "outputs": [],
   "source": []
  },
  {
   "cell_type": "code",
   "execution_count": null,
   "metadata": {},
   "outputs": [],
   "source": []
  }
 ],
 "metadata": {
  "kernelspec": {
   "display_name": "Python 3",
   "language": "python",
   "name": "python3"
  },
  "language_info": {
   "codemirror_mode": {
    "name": "ipython",
    "version": 3
   },
   "file_extension": ".py",
   "mimetype": "text/x-python",
   "name": "python",
   "nbconvert_exporter": "python",
   "pygments_lexer": "ipython3",
   "version": "3.12.2"
  }
 },
 "nbformat": 4,
 "nbformat_minor": 2
}
